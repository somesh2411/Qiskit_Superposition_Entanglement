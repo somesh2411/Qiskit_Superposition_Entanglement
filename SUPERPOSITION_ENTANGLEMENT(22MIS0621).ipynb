{
  "nbformat": 4,
  "nbformat_minor": 0,
  "metadata": {
    "colab": {
      "provenance": []
    },
    "kernelspec": {
      "name": "python3",
      "display_name": "Python 3"
    },
    "language_info": {
      "name": "python"
    }
  },
  "cells": [
    {
      "cell_type": "code",
      "execution_count": 13,
      "metadata": {
        "id": "chvdASOiOlKU"
      },
      "outputs": [],
      "source": [
        "!pip install qiskit qiskit-aer --quiet\n",
        "\n",
        "from qiskit import QuantumCircuit\n",
        "from qiskit_aer import AerSimulator\n",
        "from qiskit.visualization import plot_histogram\n",
        "from qiskit.quantum_info import Statevector\n",
        "import matplotlib.pyplot as plt"
      ]
    },
    {
      "cell_type": "code",
      "source": [
        "qc_super = QuantumCircuit(1)\n",
        "qc_super.h(0)\n",
        "state_super = Statevector.from_instruction(qc_super)\n",
        "qc_super.measure_all()\n",
        "simulator = AerSimulator()\n",
        "job_super = simulator.run(qc_super, shots=1024)\n",
        "result_super = job_super.result()\n",
        "counts_super = result_super.get_counts()\n",
        "print(\"Superposition Measurement Counts:\", counts_super)\n",
        "print(\"Superposition Statevector:\", state_super)"
      ],
      "metadata": {
        "colab": {
          "base_uri": "https://localhost:8080/"
        },
        "id": "sZyraA2WQksO",
        "outputId": "fd10d103-cd2a-4c85-f773-edf7f1b56ee9"
      },
      "execution_count": 15,
      "outputs": [
        {
          "output_type": "stream",
          "name": "stdout",
          "text": [
            "Superposition Measurement Counts: {'0': 493, '1': 531}\n",
            "Superposition Statevector: Statevector([0.70710678+0.j, 0.70710678+0.j],\n",
            "            dims=(2,))\n"
          ]
        }
      ]
    },
    {
      "cell_type": "code",
      "source": [
        "qc_ent = QuantumCircuit(2)\n",
        "qc_ent.h(0)\n",
        "qc_ent.cx(0, 1)\n",
        "state_ent = Statevector.from_instruction(qc_ent)\n",
        "qc_ent.measure_all()\n",
        "job_ent = simulator.run(qc_ent, shots=1024)\n",
        "result_ent = job_ent.result()\n",
        "counts_ent = result_ent.get_counts()\n",
        "print(\"Entangled Statevector:\", state_ent)\n",
        "print(\"Entanglement Measurement Counts:\", counts_ent)"
      ],
      "metadata": {
        "colab": {
          "base_uri": "https://localhost:8080/"
        },
        "id": "qPtS2EvMQoBM",
        "outputId": "5ca69e3b-0ea4-46c8-d0c3-e9d92a5d3c03"
      },
      "execution_count": 16,
      "outputs": [
        {
          "output_type": "stream",
          "name": "stdout",
          "text": [
            "Entangled Statevector: Statevector([0.70710678+0.j, 0.        +0.j, 0.        +0.j,\n",
            "             0.70710678+0.j],\n",
            "            dims=(2, 2))\n",
            "Entanglement Measurement Counts: {'11': 521, '00': 503}\n"
          ]
        }
      ]
    }
  ]
}